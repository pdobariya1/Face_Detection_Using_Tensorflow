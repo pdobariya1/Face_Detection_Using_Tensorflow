{
  "cells": [
    {
      "cell_type": "markdown",
      "metadata": {
        "id": "s71cOPX1U2JY"
      },
      "source": [
        "## 1. Setup and Get Data"
      ]
    },
    {
      "cell_type": "markdown",
      "metadata": {
        "id": "282kBnyVU2Jb"
      },
      "source": [
        "#### 1.1 Install Dependencies and Setup"
      ]
    },
    {
      "cell_type": "code",
      "execution_count": null,
      "metadata": {
        "colab": {
          "base_uri": "https://localhost:8080/"
        },
        "id": "LXeanw_wU2Jb",
        "outputId": "70e438c1-8753-4cfd-ee91-9c1acc314c19"
      },
      "outputs": [],
      "source": [
        "# Install requirements.txt\n",
        "# pip insrall -r requirements.txt"
      ]
    },
    {
      "cell_type": "markdown",
      "metadata": {
        "id": "A7bSoCzVU2Jc"
      },
      "source": [
        "#### 1.2 Collect Images Using OpenCV"
      ]
    },
    {
      "cell_type": "code",
      "execution_count": null,
      "metadata": {
        "id": "LTYSoLU2U2Jc"
      },
      "outputs": [],
      "source": [
        "import os\n",
        "import time\n",
        "import uuid     # Universally Unique Identifier\n",
        "import cv2"
      ]
    },
    {
      "cell_type": "code",
      "execution_count": null,
      "metadata": {
        "id": "z_8OwhpRU2Jd"
      },
      "outputs": [],
      "source": [
        "IMAGES_PATH = os.path.join('data', 'images')\n",
        "number_images = 30"
      ]
    },
    {
      "cell_type": "code",
      "execution_count": null,
      "metadata": {
        "id": "l306ad1iU2Jd",
        "outputId": "5ffd9561-399a-4bca-f35c-da15a8c83d95"
      },
      "outputs": [],
      "source": [
        "cap = cv2.VideoCapture(0)\n",
        "for img_num in range(number_images):\n",
        "    print(f'Collecting image : {img_num}')\n",
        "    ret, frame = cap.read()\n",
        "    img_name = os.path.join(IMAGES_PATH, f'{str(uuid.uuid1())}.jpg')\n",
        "    cv2.imwrite(img_name, frame)\n",
        "    cv2.imshow('frame', frame)\n",
        "    time.sleep(0.5)\n",
        "\n",
        "    if cv2.waitKey(1) & 0xFF == ord('q'):\n",
        "        break\n",
        "cap.release()\n",
        "cv2.destroyAllWindows()"
      ]
    },
    {
      "cell_type": "markdown",
      "metadata": {
        "id": "ZzYyLrY_U2Je"
      },
      "source": [
        "#### 1.3 Annotate Images with LabelMe"
      ]
    },
    {
      "cell_type": "code",
      "execution_count": null,
      "metadata": {
        "id": "A_4sWz0NU2Je",
        "outputId": "1a33be45-f053-4ec6-82ac-2ba7aceedff5"
      },
      "outputs": [],
      "source": [
        "!labelme"
      ]
    },
    {
      "cell_type": "markdown",
      "metadata": {
        "id": "gvINEfPhU2Jf"
      },
      "source": [
        "## 2. Review Dataset and Build Image Loading Function"
      ]
    },
    {
      "cell_type": "markdown",
      "metadata": {
        "id": "s6Q5oPnDU2Jf"
      },
      "source": [
        "#### 2.1 Import Tensorflow and Deps."
      ]
    },
    {
      "cell_type": "code",
      "execution_count": null,
      "metadata": {
        "id": "_nh2K7mZU2Jf"
      },
      "outputs": [],
      "source": [
        "import json\n",
        "import numpy as np\n",
        "import tensorflow as tf\n",
        "import matplotlib.pyplot as plt\n",
        "import warnings\n",
        "warnings.filterwarnings('ignore')"
      ]
    },
    {
      "cell_type": "markdown",
      "metadata": {
        "id": "V1-epPSCU2Jg"
      },
      "source": [
        "#### 2.2 Limit GPU Memory Growth"
      ]
    },
    {
      "cell_type": "code",
      "execution_count": null,
      "metadata": {
        "id": "wuKaYkjHU2Jg"
      },
      "outputs": [],
      "source": [
        "# Avoid errors by setting GPU memory Consumption Growth\n",
        "gpus = tf.config.experimental.list_physical_devices('GPU')\n",
        "for gpu in gpus:\n",
        "    tf.config.experimental.set_memory_growth(gpu, True)"
      ]
    },
    {
      "cell_type": "code",
      "execution_count": null,
      "metadata": {
        "colab": {
          "base_uri": "https://localhost:8080/"
        },
        "id": "jG9wMRS5U2Jg",
        "outputId": "f000b1db-6a42-42f9-b9d8-2c831312bc3a"
      },
      "outputs": [],
      "source": [
        "tf.config.list_physical_devices('GPU')"
      ]
    },
    {
      "cell_type": "markdown",
      "metadata": {
        "id": "-3b8ajfUU2Jg"
      },
      "source": [
        "#### 2.3 Load Images into Tensorflow Data Pipeline"
      ]
    },
    {
      "cell_type": "code",
      "execution_count": null,
      "metadata": {
        "id": "xVaNL0ThU2Jh"
      },
      "outputs": [],
      "source": [
        "images = tf.data.Dataset.list_files('data/images/*.jpg', shuffle=False)"
      ]
    },
    {
      "cell_type": "code",
      "execution_count": null,
      "metadata": {
        "colab": {
          "base_uri": "https://localhost:8080/"
        },
        "id": "L0qLwtcdU2Jh",
        "outputId": "2023dd8f-8341-4a1b-f407-dc5015f82bfb"
      },
      "outputs": [],
      "source": [
        "images.as_numpy_iterator().next()"
      ]
    },
    {
      "cell_type": "code",
      "execution_count": null,
      "metadata": {
        "id": "9-mpU73tU2Jh"
      },
      "outputs": [],
      "source": [
        "def load_image(x):\n",
        "    byte_img = tf.io.read_file(x)\n",
        "    img = tf.io.decode_jpeg(byte_img)\n",
        "    return img"
      ]
    },
    {
      "cell_type": "code",
      "execution_count": null,
      "metadata": {
        "id": "cHVQ_0VEU2Ji"
      },
      "outputs": [],
      "source": [
        "images = images.map(load_image)"
      ]
    },
    {
      "cell_type": "code",
      "execution_count": null,
      "metadata": {
        "colab": {
          "base_uri": "https://localhost:8080/"
        },
        "id": "rxDUlch3U2Ji",
        "outputId": "a8c4d624-7970-473d-d836-0c6203ab7752"
      },
      "outputs": [],
      "source": [
        "images.as_numpy_iterator().next()"
      ]
    },
    {
      "cell_type": "code",
      "execution_count": null,
      "metadata": {
        "colab": {
          "base_uri": "https://localhost:8080/"
        },
        "id": "WSKfawdeU2Ji",
        "outputId": "804e593c-440d-4166-82de-d94caf7ba283"
      },
      "outputs": [],
      "source": [
        "type(images)"
      ]
    },
    {
      "cell_type": "markdown",
      "metadata": {
        "id": "xrVdVPFBU2Ji"
      },
      "source": [
        "#### 2.4 View Raw Images with Matplotlib"
      ]
    },
    {
      "cell_type": "code",
      "execution_count": null,
      "metadata": {
        "id": "4Hr2neNwU2Ji"
      },
      "outputs": [],
      "source": [
        "image_generator = images.batch(4).as_numpy_iterator()"
      ]
    },
    {
      "cell_type": "code",
      "execution_count": null,
      "metadata": {
        "id": "OgOPDpFBU2Jj"
      },
      "outputs": [],
      "source": [
        "plot_images = image_generator.next()"
      ]
    },
    {
      "cell_type": "code",
      "execution_count": null,
      "metadata": {
        "colab": {
          "base_uri": "https://localhost:8080/",
          "height": 186
        },
        "id": "a3I2t9EGU2Jj",
        "outputId": "22b83d14-e9cf-4b47-d6ae-b24bc03bc6d3"
      },
      "outputs": [],
      "source": [
        "fig, ax = plt.subplots(ncols=4, figsize=(20, 20))\n",
        "for idx, image in enumerate(plot_images):\n",
        "    ax[idx].imshow(image)\n",
        "plt.show()"
      ]
    },
    {
      "cell_type": "markdown",
      "metadata": {
        "id": "Yp9yTG9NU2Jj"
      },
      "source": [
        "## 3. Partition Unaugmented Data"
      ]
    },
    {
      "cell_type": "markdown",
      "metadata": {
        "id": "rNd3iI7eU2Jj"
      },
      "source": [
        "#### 3.1 Manually Split Data into Train, Test and Val"
      ]
    },
    {
      "cell_type": "code",
      "execution_count": null,
      "metadata": {
        "colab": {
          "base_uri": "https://localhost:8080/"
        },
        "id": "GesaYAZwU2Jk",
        "outputId": "24315525-6435-4c19-e049-13f6b285966d"
      },
      "outputs": [],
      "source": [
        "90 * 0.7    # 63 to train"
      ]
    },
    {
      "cell_type": "code",
      "execution_count": null,
      "metadata": {
        "colab": {
          "base_uri": "https://localhost:8080/"
        },
        "id": "W2QH-BSXU2Jk",
        "outputId": "3f3ab037-56b3-4430-fb78-b44f2508305c"
      },
      "outputs": [],
      "source": [
        "90 * 0.15   # 14 and 13 to test and val"
      ]
    },
    {
      "cell_type": "markdown",
      "metadata": {
        "id": "0JxpTizoU2Jk"
      },
      "source": [
        "#### 3.2 Move the Matching Labels"
      ]
    },
    {
      "cell_type": "code",
      "execution_count": null,
      "metadata": {
        "id": "MFgEkJ7xU2Jk"
      },
      "outputs": [],
      "source": [
        "for folder in ['test', 'train', 'val']:\n",
        "    for file in os.listdir(os.path.join('data', folder, 'images')):\n",
        "        filename = file.split('.')[0]+'.json'\n",
        "        existing_filepath = os.path.join('data', 'labels', filename)\n",
        "        if os.path.exists(existing_filepath):\n",
        "            new_filepath = os.path.join('data', folder, 'labels', filename)\n",
        "            os.replace(existing_filepath, new_filepath)"
      ]
    },
    {
      "cell_type": "markdown",
      "metadata": {
        "id": "oDQgLgPHU2Jk"
      },
      "source": [
        "## 4. Apply Image Augmentation on Images and Labels using Albumentations"
      ]
    },
    {
      "cell_type": "markdown",
      "metadata": {
        "id": "Nwut0O-5U2Jk"
      },
      "source": [
        "#### 4.1 Setup Albumentations Transform Pipeline"
      ]
    },
    {
      "cell_type": "code",
      "execution_count": null,
      "metadata": {
        "colab": {
          "base_uri": "https://localhost:8080/"
        },
        "id": "C-Q5mbYhU2Jl",
        "outputId": "9ea2c2b9-5f0d-40a7-9b2d-7e0cde459e0b"
      },
      "outputs": [],
      "source": [
        "img = cv2.imread(os.path.join('data', 'train', 'images', '0aeb8e5f-b44b-11ee-99cc-3cf011157704.jpg'))\n",
        "img.shape"
      ]
    },
    {
      "cell_type": "code",
      "execution_count": null,
      "metadata": {
        "id": "rfIAkXm7U2Jl"
      },
      "outputs": [],
      "source": [
        "import albumentations as alb"
      ]
    },
    {
      "cell_type": "code",
      "execution_count": null,
      "metadata": {
        "id": "86eAKMlQU2Jl"
      },
      "outputs": [],
      "source": [
        "augmentor = alb.Compose(\n",
        "    [\n",
        "        alb.RandomCrop(width=450, height=450),\n",
        "        alb.HorizontalFlip(p=0.5),\n",
        "        alb.RandomBrightnessContrast(p=0.2),\n",
        "        alb.RandomGamma(p=0.2),\n",
        "        alb.RGBShift(p=0.2),\n",
        "        alb.VerticalFlip(p=0.5)\n",
        "    ],\n",
        "    bbox_params=alb.BboxParams(\n",
        "        format='albumentations',\n",
        "        label_fields=['class_labels']\n",
        "    )\n",
        ")"
      ]
    },
    {
      "cell_type": "markdown",
      "metadata": {
        "id": "5lXaNh23U2Jl"
      },
      "source": [
        "#### 4.2 Load a Test Image and Annotation with OpenCV and JSON"
      ]
    },
    {
      "cell_type": "code",
      "execution_count": null,
      "metadata": {
        "id": "X4Gc5l9-U2Jl"
      },
      "outputs": [],
      "source": [
        "img = cv2.imread(os.path.join('data', 'train', 'images', '0959520e-b44b-11ee-9ca3-3cf011157704.jpg'))"
      ]
    },
    {
      "cell_type": "code",
      "execution_count": null,
      "metadata": {
        "id": "XRe5P5F8U2Ju"
      },
      "outputs": [],
      "source": [
        "with open(os.path.join('data', 'train', 'labels', '0959520e-b44b-11ee-9ca3-3cf011157704.json'), 'r') as f:\n",
        "    label = json.load(f)"
      ]
    },
    {
      "cell_type": "code",
      "execution_count": null,
      "metadata": {
        "colab": {
          "base_uri": "https://localhost:8080/"
        },
        "id": "JxhkRntcU2Jv",
        "outputId": "18913a10-c0a8-41d2-b0f6-6c99bbb3281e"
      },
      "outputs": [],
      "source": [
        "label['shapes'][0]['label'], label['shapes'][0]['points']"
      ]
    },
    {
      "cell_type": "markdown",
      "metadata": {
        "id": "uxQIVtQZU2Jv"
      },
      "source": [
        "#### 4.3 Extract Coordinates and Rescale to Match Image Resolution"
      ]
    },
    {
      "cell_type": "code",
      "execution_count": null,
      "metadata": {
        "id": "SaSCcmIpU2Jv"
      },
      "outputs": [],
      "source": [
        "coords = [0, 0, 0, 0]\n",
        "coords[0] = label['shapes'][0]['points'][0][0]\n",
        "coords[1] = label['shapes'][0]['points'][0][1]\n",
        "coords[2] = label['shapes'][0]['points'][1][0]\n",
        "coords[3] = label['shapes'][0]['points'][1][1]"
      ]
    },
    {
      "cell_type": "code",
      "execution_count": null,
      "metadata": {
        "colab": {
          "base_uri": "https://localhost:8080/"
        },
        "id": "lOo7Rq9mU2Jv",
        "outputId": "6a3cc348-4979-4402-be33-fccd7beadeb4"
      },
      "outputs": [],
      "source": [
        "coords"
      ]
    },
    {
      "cell_type": "code",
      "execution_count": null,
      "metadata": {
        "colab": {
          "base_uri": "https://localhost:8080/"
        },
        "id": "CDMERou3U2Jv",
        "outputId": "c4e40eb6-2a17-41e8-c0aa-10825f520820"
      },
      "outputs": [],
      "source": [
        "# https://albumentations.ai/docs/getting_started/bounding_boxes_augmentation/\n",
        "coords = list(np.divide(coords, [640, 480, 640, 480]))\n",
        "coords"
      ]
    },
    {
      "cell_type": "markdown",
      "metadata": {
        "id": "KV33So0BU2Jw"
      },
      "source": [
        "#### 4.4 Apply Augmentations and View Result"
      ]
    },
    {
      "cell_type": "code",
      "execution_count": null,
      "metadata": {
        "id": "3oAaB4QaU2Jw"
      },
      "outputs": [],
      "source": [
        "augmented = augmentor(image=img, bboxes=[coords], class_labels=['face'])"
      ]
    },
    {
      "cell_type": "code",
      "execution_count": null,
      "metadata": {
        "colab": {
          "base_uri": "https://localhost:8080/"
        },
        "id": "XosiN_E6U2Jw",
        "outputId": "8d910ce2-e406-4988-92e2-5e36cd341716"
      },
      "outputs": [],
      "source": [
        "augmented['bboxes']"
      ]
    },
    {
      "cell_type": "code",
      "execution_count": null,
      "metadata": {
        "colab": {
          "base_uri": "https://localhost:8080/"
        },
        "id": "0dI4UtFhU2Jw",
        "outputId": "9ecffb07-474e-41f9-8cf5-988d31825116"
      },
      "outputs": [],
      "source": [
        "augmented['bboxes'][0][:2], augmented['bboxes'][0][2:]"
      ]
    },
    {
      "cell_type": "code",
      "execution_count": null,
      "metadata": {
        "colab": {
          "base_uri": "https://localhost:8080/",
          "height": 452
        },
        "id": "VlxFPCKVU2Jw",
        "outputId": "21820793-4418-4631-f24c-a8d1061ff911"
      },
      "outputs": [],
      "source": [
        "cv2.rectangle(\n",
        "    augmented['image'],\n",
        "    tuple(np.multiply(augmented['bboxes'][0][:2], [450, 450]).astype(int)),\n",
        "    tuple(np.multiply(augmented['bboxes'][0][2:], [450, 450]).astype(int)),\n",
        "    color=(255, 0, 0),\n",
        "    thickness=2\n",
        ")\n",
        "\n",
        "plt.imshow(augmented['image'])"
      ]
    },
    {
      "cell_type": "markdown",
      "metadata": {
        "id": "152XqHooU2Jw"
      },
      "source": [
        "## 5. Build and Run Augmentation Pipeline"
      ]
    },
    {
      "cell_type": "markdown",
      "metadata": {
        "id": "g3S4i6phU2Jx"
      },
      "source": [
        "#### 5.1 Run Augmentation Pipeline"
      ]
    },
    {
      "cell_type": "code",
      "execution_count": null,
      "metadata": {
        "id": "ux25RO96U2Jx"
      },
      "outputs": [],
      "source": [
        "for partition in ['train', 'test', 'val']:\n",
        "    for image in os.listdir(os.path.join('data', partition, 'images')):\n",
        "        img = cv2.imread(os.path.join('data', partition, 'images', image))\n",
        "\n",
        "        coords = [0, 0, 0.00001, 0.00001]\n",
        "        label_path = os.path.join('data', partition, 'labels', f'{image.split(\".\")[0]}.json')\n",
        "        if os.path.exists(label_path):\n",
        "            with open(label_path, 'r') as f:\n",
        "                label = json.load(f)\n",
        "\n",
        "            coords[0] = label['shapes'][0]['points'][0][0]\n",
        "            coords[1] = label['shapes'][0]['points'][0][1]\n",
        "            coords[2] = label['shapes'][0]['points'][1][0]\n",
        "            coords[3] = label['shapes'][0]['points'][1][1]\n",
        "            coords = list(np.divide(coords, [640, 480, 640, 480]))\n",
        "\n",
        "        try:\n",
        "            for x in range(60):\n",
        "                augmented = augmentor(image=img, bboxes=[coords], class_labels=['face'])\n",
        "                cv2.imwrite(os.path.join('aug_data', partition, 'images', f'{image.split(\".\")[0]}.{x}.jpg'), augmented['image'])\n",
        "\n",
        "                annotation = {}\n",
        "                annotation['image'] = image\n",
        "\n",
        "                if os.path.exists(label_path):\n",
        "                    if len(augmented['bboxes']) == 0:\n",
        "                        annotation['bbox'] = [0, 0, 0, 0]\n",
        "                        annotation['class'] = 0\n",
        "                    else:\n",
        "                        annotation['bbox'] = augmented['bboxes'][0]\n",
        "                        annotation['class'] = 1\n",
        "                else:\n",
        "                    annotation['bbox'] = [0, 0, 0, 0]\n",
        "                    annotation['class'] = 0\n",
        "\n",
        "\n",
        "                with open(os.path.join('aug_data', partition, 'labels', f'{image.split(\".\")[0]}.{x}.json'), 'w') as f:\n",
        "                    json.dump(annotation, f)\n",
        "\n",
        "        except Exception as e:\n",
        "            print(e)"
      ]
    },
    {
      "cell_type": "markdown",
      "metadata": {
        "id": "FpiOuaqqU2Jx"
      },
      "source": [
        "#### 5.2 Load Augmented Images to Tensorflow Dataset"
      ]
    },
    {
      "cell_type": "code",
      "execution_count": null,
      "metadata": {
        "id": "G12rDxzOU2Jx"
      },
      "outputs": [],
      "source": [
        "train_images = tf.data.Dataset.list_files('aug_data/train/images/*.jpg', shuffle=False)\n",
        "train_images = train_images.map(load_image)\n",
        "train_images = train_images.map(lambda x: tf.image.resize(x, (120, 120)))\n",
        "train_images = train_images.map(lambda x: x/255)"
      ]
    },
    {
      "cell_type": "code",
      "execution_count": null,
      "metadata": {
        "id": "IXNq9pfUU2Jx"
      },
      "outputs": [],
      "source": [
        "test_images = tf.data.Dataset.list_files('aug_data/test/images/*.jpg', shuffle=False)\n",
        "test_images = test_images.map(load_image)\n",
        "test_images = test_images.map(lambda x: tf.image.resize(x, (120, 120)))\n",
        "test_images = test_images.map(lambda x: x/255)"
      ]
    },
    {
      "cell_type": "code",
      "execution_count": null,
      "metadata": {
        "id": "y2zLA2gjU2Jx"
      },
      "outputs": [],
      "source": [
        "val_images = tf.data.Dataset.list_files('aug_data/val/images/*.jpg', shuffle=False)\n",
        "val_images = val_images.map(load_image)\n",
        "val_images = val_images.map(lambda x: tf.image.resize(x, (120, 120)))\n",
        "val_images = val_images.map(lambda x: x/255)"
      ]
    },
    {
      "cell_type": "code",
      "execution_count": null,
      "metadata": {
        "colab": {
          "base_uri": "https://localhost:8080/"
        },
        "id": "zAJ9MDevU2Jy",
        "outputId": "9ef82d39-895f-499e-e97d-31a5b0fb266d"
      },
      "outputs": [],
      "source": [
        "train_images.as_numpy_iterator().next()"
      ]
    },
    {
      "cell_type": "markdown",
      "metadata": {
        "id": "CVX2HlvTU2Jy"
      },
      "source": [
        "## 6. Prepare Labels"
      ]
    },
    {
      "cell_type": "markdown",
      "metadata": {
        "id": "EJ52qH95U2Jy"
      },
      "source": [
        "#### 6.1 Build Label Loading Function"
      ]
    },
    {
      "cell_type": "code",
      "execution_count": null,
      "metadata": {
        "id": "XCe9zShcU2Jy"
      },
      "outputs": [],
      "source": [
        "def load_labels(label_path):\n",
        "    with open(label_path.numpy(), 'r', encoding=\"utf-8\") as f:\n",
        "        label = json.load(f)\n",
        "\n",
        "    return [label['class']], label['bbox']"
      ]
    },
    {
      "cell_type": "markdown",
      "metadata": {
        "id": "kLY8XGnJU2Jy"
      },
      "source": [
        "#### 6.2 Load Label to Tensorflow Dataset"
      ]
    },
    {
      "cell_type": "code",
      "execution_count": null,
      "metadata": {
        "colab": {
          "base_uri": "https://localhost:8080/"
        },
        "id": "Te4qS8NzU2Jy",
        "outputId": "ee97f999-4ee9-44e7-dae0-06a8a78eea5b"
      },
      "outputs": [],
      "source": [
        "train_labels = tf.data.Dataset.list_files('aug_data/train/labels/*.json', shuffle=False)\n",
        "train_labels.as_numpy_iterator().next()"
      ]
    },
    {
      "cell_type": "code",
      "execution_count": null,
      "metadata": {
        "id": "0R0v0JbkU2Jz"
      },
      "outputs": [],
      "source": [
        "train_labels = tf.data.Dataset.list_files('aug_data/train/labels/*.json', shuffle=False)\n",
        "train_labels = train_labels.map(lambda x: tf.py_function(load_labels, [x], [tf.uint8, tf.float16]))"
      ]
    },
    {
      "cell_type": "code",
      "execution_count": null,
      "metadata": {
        "id": "_jahDi_bU2Jz"
      },
      "outputs": [],
      "source": [
        "test_labels = tf.data.Dataset.list_files('aug_data/test/labels/*.json', shuffle=False)\n",
        "test_labels = test_labels.map(lambda x: tf.py_function(load_labels, [x], [tf.uint8, tf.float16]))"
      ]
    },
    {
      "cell_type": "code",
      "execution_count": null,
      "metadata": {
        "id": "Xnbw__DVU2Jz"
      },
      "outputs": [],
      "source": [
        "val_labels = tf.data.Dataset.list_files('aug_data/val/labels/*.json', shuffle=False)\n",
        "val_labels = val_labels.map(lambda x: tf.py_function(load_labels, [x], [tf.uint8, tf.float16]))"
      ]
    },
    {
      "cell_type": "code",
      "execution_count": null,
      "metadata": {
        "colab": {
          "base_uri": "https://localhost:8080/"
        },
        "id": "NU1zWKdbU2Jz",
        "outputId": "c9b40bbd-b339-4be2-ef54-62265949bb6f"
      },
      "outputs": [],
      "source": [
        "train_labels.as_numpy_iterator().next()"
      ]
    },
    {
      "cell_type": "markdown",
      "metadata": {
        "id": "x74rMbfCU2Jz"
      },
      "source": [
        "## 7. Combine Label and Image Samples"
      ]
    },
    {
      "cell_type": "markdown",
      "metadata": {
        "id": "gr99JocXU2Jz"
      },
      "source": [
        "#### 7.1 Check Partition Lengths"
      ]
    },
    {
      "cell_type": "code",
      "execution_count": null,
      "metadata": {
        "colab": {
          "base_uri": "https://localhost:8080/"
        },
        "id": "Slw3h9PaU2J0",
        "outputId": "98e5b58c-bd13-4671-8511-36602bf6ac15"
      },
      "outputs": [],
      "source": [
        "print(f'Length of Train Images & Labels : {len(train_images), len(train_labels)}')\n",
        "print(f'Length of Test Images & Labels : {len(test_images), len(test_labels)}')\n",
        "print(f'Length of Validation Images & Labels : {len(val_images), len(val_labels)}')"
      ]
    },
    {
      "cell_type": "markdown",
      "metadata": {
        "id": "tEdg9js2U2J0"
      },
      "source": [
        "#### 7.2 Create Final Dataset (Images & Labels)"
      ]
    },
    {
      "cell_type": "code",
      "execution_count": null,
      "metadata": {
        "id": "3NQmaZbDU2J0"
      },
      "outputs": [],
      "source": [
        "train = tf.data.Dataset.zip((train_images, train_labels))\n",
        "train = train.shuffle(5000)\n",
        "train = train.batch(8)\n",
        "train = train.prefetch(4)"
      ]
    },
    {
      "cell_type": "code",
      "execution_count": null,
      "metadata": {
        "id": "0A8Uqa9cU2J0"
      },
      "outputs": [],
      "source": [
        "test = tf.data.Dataset.zip((test_images, test_labels))\n",
        "test = test.shuffle(1300)\n",
        "test = test.batch(8)\n",
        "test = test.prefetch(4)"
      ]
    },
    {
      "cell_type": "code",
      "execution_count": null,
      "metadata": {
        "id": "fAjIg6hmU2J0"
      },
      "outputs": [],
      "source": [
        "val = tf.data.Dataset.zip((val_images, val_labels))\n",
        "val = val.shuffle(1000)\n",
        "val = val.batch(8)\n",
        "val = val.prefetch(4)"
      ]
    },
    {
      "cell_type": "code",
      "execution_count": null,
      "metadata": {
        "colab": {
          "base_uri": "https://localhost:8080/"
        },
        "id": "-53T5-_lU2J0",
        "outputId": "ad064bda-6127-4b77-936f-fae38f6737e5"
      },
      "outputs": [],
      "source": [
        "train.as_numpy_iterator().next()[0].shape, train.as_numpy_iterator().next()[1]"
      ]
    },
    {
      "cell_type": "markdown",
      "metadata": {
        "id": "vDEP5TiIU2J1"
      },
      "source": [
        "#### 7.3 View Images and Annotations"
      ]
    },
    {
      "cell_type": "code",
      "execution_count": null,
      "metadata": {
        "id": "1PvzmGdzU2J1"
      },
      "outputs": [],
      "source": [
        "data_samples = train.as_numpy_iterator()"
      ]
    },
    {
      "cell_type": "code",
      "execution_count": null,
      "metadata": {
        "id": "Z8TZlpsFU2J1"
      },
      "outputs": [],
      "source": [
        "res = data_samples.next()"
      ]
    },
    {
      "cell_type": "code",
      "execution_count": null,
      "metadata": {
        "colab": {
          "base_uri": "https://localhost:8080/",
          "height": 322
        },
        "id": "jf4OEfzWU2J1",
        "outputId": "33b92111-cf57-4e92-e71b-1d984288a165"
      },
      "outputs": [],
      "source": [
        "fig, ax = plt.subplots(ncols=4, figsize=(20, 20))\n",
        "for idx in range(4):\n",
        "    sample_image = res[0][idx]\n",
        "    sample_coords = res[1][1][idx]\n",
        "    # img_copy = np.copy(sample_image)\n",
        "\n",
        "    cv2.rectangle(\n",
        "        img=sample_image,\n",
        "        pt1=tuple(np.multiply(sample_coords[:2], [120, 120]).astype(int)),\n",
        "        pt2=tuple(np.multiply(sample_coords[2:], [120, 120]).astype(int)),\n",
        "        color=(255, 0, 0),\n",
        "        thickness=1\n",
        "    )\n",
        "\n",
        "    ax[idx].imshow(sample_image)"
      ]
    },
    {
      "cell_type": "markdown",
      "metadata": {
        "id": "WvbQOS3uU2J1"
      },
      "source": [
        "## 8. Build Deep Learning using the Functional API"
      ]
    },
    {
      "cell_type": "markdown",
      "metadata": {
        "id": "g-ttwzhaU2J1"
      },
      "source": [
        "#### 8.1 Import Layers and Base Network"
      ]
    },
    {
      "cell_type": "code",
      "execution_count": null,
      "metadata": {
        "id": "rkpQkciWU2J1"
      },
      "outputs": [],
      "source": [
        "from tensorflow.keras.models import Model\n",
        "from tensorflow.keras.applications import VGG16\n",
        "from tensorflow.keras.layers import Input, Conv2D, Dense, GlobalMaxPooling2D"
      ]
    },
    {
      "cell_type": "markdown",
      "metadata": {
        "id": "LiXkJK1GU2J2"
      },
      "source": [
        "#### 8.2 Download VGG16"
      ]
    },
    {
      "cell_type": "code",
      "execution_count": null,
      "metadata": {
        "colab": {
          "base_uri": "https://localhost:8080/"
        },
        "id": "XJn3uyIoU2J2",
        "outputId": "32220aa8-f6e7-4c17-ad8d-8ee3d73b9f58"
      },
      "outputs": [],
      "source": [
        "vgg = VGG16(include_top=False)\n",
        "vgg.summary()"
      ]
    },
    {
      "cell_type": "markdown",
      "metadata": {
        "id": "IUUc_nqVU2J2"
      },
      "source": [
        "#### 8.3 Build instance of Network"
      ]
    },
    {
      "cell_type": "code",
      "execution_count": null,
      "metadata": {
        "colab": {
          "base_uri": "https://localhost:8080/"
        },
        "id": "yYpGPLISU2J2",
        "outputId": "555af186-9648-4b7b-ed86-2a3bbabeb4bf"
      },
      "outputs": [],
      "source": [
        "train.as_numpy_iterator().next()[1]"
      ]
    },
    {
      "cell_type": "code",
      "execution_count": null,
      "metadata": {
        "id": "-OxzxZSMdSNf"
      },
      "outputs": [],
      "source": [
        "def build_model():\n",
        "  input_layer = Input(shape=(120, 120, 3))\n",
        "\n",
        "  vgg = VGG16(include_top=False)(input_layer)\n",
        "\n",
        "  # Classification Model\n",
        "  f1 = GlobalMaxPooling2D()(vgg)\n",
        "  class1 = Dense(2048, activation='relu')(f1)\n",
        "  class2 = Dense(1, activation='sigmoid')(class1)\n",
        "\n",
        "  # Bounding Box Model or Regression Model\n",
        "  f2 = GlobalMaxPooling2D()(vgg)\n",
        "  regress1 = Dense(2048, activation='relu')(f2)\n",
        "  regress2 = Dense(4, activation='sigmoid')(regress1)\n",
        "\n",
        "  facetracker = Model(inputs=input_layer, outputs=[class2, regress2])\n",
        "  return facetracker\n"
      ]
    },
    {
      "cell_type": "markdown",
      "metadata": {
        "id": "se2tSQxBU2J2"
      },
      "source": [
        "#### 8.4 Test out Neural Network"
      ]
    },
    {
      "cell_type": "code",
      "execution_count": null,
      "metadata": {
        "id": "ED43dbG4fbhu"
      },
      "outputs": [],
      "source": [
        "facetracker = build_model()"
      ]
    },
    {
      "cell_type": "code",
      "execution_count": null,
      "metadata": {
        "colab": {
          "base_uri": "https://localhost:8080/"
        },
        "id": "cZw8FcJpfhM0",
        "outputId": "69ac40c4-41a1-4534-89af-8a4ddf5d1d54"
      },
      "outputs": [],
      "source": [
        "facetracker.summary()"
      ]
    },
    {
      "cell_type": "code",
      "execution_count": null,
      "metadata": {
        "id": "nLSKKL5Yf3K_"
      },
      "outputs": [],
      "source": [
        "X, y = train.as_numpy_iterator().next()"
      ]
    },
    {
      "cell_type": "code",
      "execution_count": null,
      "metadata": {
        "colab": {
          "base_uri": "https://localhost:8080/"
        },
        "id": "joNxKccdgbeP",
        "outputId": "b81498c5-fe15-4e20-b47d-5ad8783c9792"
      },
      "outputs": [],
      "source": [
        "X.shape"
      ]
    },
    {
      "cell_type": "code",
      "execution_count": null,
      "metadata": {
        "colab": {
          "base_uri": "https://localhost:8080/"
        },
        "id": "AjuttE2CgklK",
        "outputId": "5542dafe-e911-4c8a-f83e-bd1666c63c2e"
      },
      "outputs": [],
      "source": [
        "classes, coords = facetracker.predict(X)"
      ]
    },
    {
      "cell_type": "code",
      "execution_count": null,
      "metadata": {
        "colab": {
          "base_uri": "https://localhost:8080/"
        },
        "id": "v0LXqTN3gvTP",
        "outputId": "256f23eb-fd0d-4a96-eb0f-ca64fe50eb28"
      },
      "outputs": [],
      "source": [
        "classes, coords"
      ]
    },
    {
      "cell_type": "markdown",
      "metadata": {
        "id": "QC_21gTqg-Jj"
      },
      "source": [
        "## 9. Define Losses and Optimizers"
      ]
    },
    {
      "cell_type": "markdown",
      "metadata": {
        "id": "9L0d0skohLPl"
      },
      "source": [
        "#### 9.1 Define Optimizer and LR"
      ]
    },
    {
      "cell_type": "code",
      "execution_count": null,
      "metadata": {
        "id": "RgOQHjM9h8dT"
      },
      "outputs": [],
      "source": [
        "batches_per_epoch = len(train)\n",
        "lr_decay = (1./0.75 -1) / batches_per_epoch"
      ]
    },
    {
      "cell_type": "code",
      "execution_count": null,
      "metadata": {
        "colab": {
          "base_uri": "https://localhost:8080/"
        },
        "id": "Yt4pPYzSjQB3",
        "outputId": "6687813f-6f19-449e-965f-6ca0876416cd"
      },
      "outputs": [],
      "source": [
        "lr_decay"
      ]
    },
    {
      "cell_type": "code",
      "execution_count": null,
      "metadata": {
        "id": "p3K0FLZJjTCg"
      },
      "outputs": [],
      "source": [
        "opt = tf.keras.optimizers.legacy.Adam(learning_rate=0.0001, decay=lr_decay)"
      ]
    },
    {
      "cell_type": "markdown",
      "metadata": {
        "id": "KcYjy10ehOg2"
      },
      "source": [
        "#### 9.2 Create Localization Loss and Classification Loss"
      ]
    },
    {
      "cell_type": "code",
      "execution_count": null,
      "metadata": {
        "id": "9YT1WmnBkLN1"
      },
      "outputs": [],
      "source": [
        "def localization_loss(y_true, yhat):\n",
        "  delta_coord = tf.reduce_sum(tf.square(y_true[:, :2] - yhat[:, :2]))\n",
        "\n",
        "  # Actual Height and Width\n",
        "  h_true = y_true[:,3] - y_true[:,1]\n",
        "  w_true = y_true[:,2] - y_true[:,0]\n",
        "\n",
        "  # Predicted Height and Width\n",
        "  h_pred = yhat[:,3] - yhat[:,1]\n",
        "  w_pred = yhat[:,2] - yhat[:,0]\n",
        "\n",
        "  delta_size = tf.reduce_sum(tf.square(w_true - w_pred) + tf.square(h_true - h_pred))\n",
        "\n",
        "  return delta_coord + delta_size"
      ]
    },
    {
      "cell_type": "code",
      "execution_count": null,
      "metadata": {
        "id": "-VjoEoFGlzea"
      },
      "outputs": [],
      "source": [
        "classloss = tf.keras.losses.BinaryCrossentropy()\n",
        "regressloss = localization_loss"
      ]
    },
    {
      "cell_type": "markdown",
      "metadata": {
        "id": "CQZ8BvTRhR1R"
      },
      "source": [
        "#### 9.3 Test out Loss Metrics"
      ]
    },
    {
      "cell_type": "code",
      "execution_count": null,
      "metadata": {
        "colab": {
          "base_uri": "https://localhost:8080/"
        },
        "id": "HF5O50YcmXMf",
        "outputId": "7eb997ef-0105-4bbc-cb4b-7801f04e6ec0"
      },
      "outputs": [],
      "source": [
        "classloss(y[0], classes)"
      ]
    },
    {
      "cell_type": "code",
      "execution_count": null,
      "metadata": {
        "colab": {
          "base_uri": "https://localhost:8080/"
        },
        "id": "uHYA6BRWmdlZ",
        "outputId": "9e3a322a-57c1-461b-fcce-b78a082d2f75"
      },
      "outputs": [],
      "source": [
        "regressloss(y[1], coords)"
      ]
    },
    {
      "cell_type": "markdown",
      "metadata": {
        "id": "0CFTvyB4hWMS"
      },
      "source": [
        "## 10. Train Neural Network"
      ]
    },
    {
      "cell_type": "markdown",
      "metadata": {
        "id": "c7AHg3sGhaZH"
      },
      "source": [
        "#### 10.1 Create Custom Model Class"
      ]
    },
    {
      "cell_type": "code",
      "execution_count": null,
      "metadata": {
        "id": "NK5FudfepQ5w"
      },
      "outputs": [],
      "source": [
        "class Facetracker(Model):\n",
        "  def __init__(self, eyetracker, **kwargs):\n",
        "    super().__init__(**kwargs)\n",
        "    self.model = eyetracker\n",
        "\n",
        "  def compile(self, opt, classloss, localizationloss, **kwargs):\n",
        "    super().compile(**kwargs)\n",
        "    self.closs = classloss\n",
        "    self.lloss = localizationloss\n",
        "    self.opt = opt\n",
        "\n",
        "  def train_step(self, batch, **kwargs):\n",
        "    X, y = batch\n",
        "\n",
        "    with tf.GradientTape() as tape:\n",
        "      classes, coords = self.model(X, training=True)\n",
        "\n",
        "      batch_classloss = self.closs(y[0], classes)\n",
        "      batch_localizationloss = self.lloss(tf.cast(y[1], tf.float32), coords)\n",
        "      total_loss = batch_localizationloss + 0.5 * batch_classloss\n",
        "\n",
        "      grad = tape.gradient(total_loss, self.model.trainable_variables)\n",
        "\n",
        "    opt.apply_gradients(zip(grad, self.model.trainable_variables))\n",
        "\n",
        "    return {\"total_loss\" : total_loss, \"class_loss\" : batch_classloss, \"regress_loss\" : batch_localizationloss}\n",
        "\n",
        "  def test_loss(self, batch, **kwargs):\n",
        "    X, y = batch\n",
        "\n",
        "    classes, coords = self.model(X, training=False)\n",
        "\n",
        "    batch_classloss = self.closs(y[0], classes)\n",
        "    batch_localizationloss = self.lloss(tf.cast(y[1], tf.float32), coords)\n",
        "    total_loss = batch_localizationloss + 0.5 * batch_classloss\n",
        "\n",
        "    return {\"total_loss\" : total_loss, \"class_loss\" : batch_classloss, \"regress_loss\" : batch_localizationloss}\n",
        "\n",
        "  def call(self, X, **kwargs):\n",
        "    return self.model(X, **kwargs)"
      ]
    },
    {
      "cell_type": "code",
      "execution_count": null,
      "metadata": {
        "id": "vCi0IZjdun9Z"
      },
      "outputs": [],
      "source": [
        "model = Facetracker(facetracker)"
      ]
    },
    {
      "cell_type": "code",
      "execution_count": null,
      "metadata": {
        "id": "aS42YHZLu4Z4"
      },
      "outputs": [],
      "source": [
        "model.compile(opt, classloss, regressloss)"
      ]
    },
    {
      "cell_type": "markdown",
      "metadata": {
        "id": "qzh0l0CShfRx"
      },
      "source": [
        "#### 10.2 Train"
      ]
    },
    {
      "cell_type": "code",
      "execution_count": null,
      "metadata": {
        "id": "98oVhcJcwDtA"
      },
      "outputs": [],
      "source": [
        "logdir = 'logs'"
      ]
    },
    {
      "cell_type": "code",
      "execution_count": null,
      "metadata": {
        "id": "0ZN7v3QQwHrR"
      },
      "outputs": [],
      "source": [
        "tensorboard_callback = tf.keras.callbacks.TensorBoard(log_dir=logdir)"
      ]
    },
    {
      "cell_type": "code",
      "execution_count": null,
      "metadata": {
        "colab": {
          "base_uri": "https://localhost:8080/"
        },
        "id": "rEhtZ3uywVuw",
        "outputId": "17f41a3c-46ab-4f00-a2ad-f7c7d6b15b55"
      },
      "outputs": [],
      "source": [
        "hist = model.fit(train, epochs=40, validation_data=val, callbacks=[tensorboard_callback])"
      ]
    },
    {
      "cell_type": "markdown",
      "metadata": {
        "id": "2cSfrcHrhjxB"
      },
      "source": [
        "#### 10.3 Plot Performance"
      ]
    },
    {
      "cell_type": "code",
      "execution_count": null,
      "metadata": {
        "colab": {
          "base_uri": "https://localhost:8080/"
        },
        "id": "4dKElfkA3JDv",
        "outputId": "71af3a8d-0b56-4921-f670-5298dd914375"
      },
      "outputs": [],
      "source": [
        "hist.history"
      ]
    },
    {
      "cell_type": "code",
      "execution_count": null,
      "metadata": {
        "colab": {
          "base_uri": "https://localhost:8080/",
          "height": 267
        },
        "id": "cFNvAoNc3Saq",
        "outputId": "040e8aa5-4d33-4982-c437-649b7f9fe3bc"
      },
      "outputs": [],
      "source": [
        "fig, ax = plt.subplots(ncols=3, figsize=(20,5))\n",
        "\n",
        "ax[0].plot(hist.history['total_loss'], color='orange', label='loss')\n",
        "ax[0].plot(hist.history['val_loss'], color='teal', label='val loss')\n",
        "ax[0].title.set_text('Loss')\n",
        "ax[0].legend()\n",
        "\n",
        "ax[1].plot(hist.history['class_loss'], color='orange', label='class loss')\n",
        "ax[1].title.set_text('Classification Loss')\n",
        "ax[1].legend()\n",
        "\n",
        "ax[2].plot(hist.history['regress_loss'], color='orange', label='regress loss')\n",
        "ax[2].title.set_text('Regression Loss')\n",
        "ax[2].legend()\n",
        "\n",
        "plt.show()"
      ]
    },
    {
      "cell_type": "markdown",
      "metadata": {
        "id": "FIPn2k3jhm9Y"
      },
      "source": [
        "## 11. Make Predictions\n"
      ]
    },
    {
      "cell_type": "markdown",
      "metadata": {
        "id": "Zur3t803huWK"
      },
      "source": [
        "#### 11.1 Make Predictions on Test Set"
      ]
    },
    {
      "cell_type": "code",
      "execution_count": null,
      "metadata": {
        "id": "MzOmHs9l5hvq"
      },
      "outputs": [],
      "source": [
        "test_data = test.as_numpy_iterator()"
      ]
    },
    {
      "cell_type": "code",
      "execution_count": null,
      "metadata": {
        "id": "yaMUthU05nXB"
      },
      "outputs": [],
      "source": [
        "test_sample = test_data.next()"
      ]
    },
    {
      "cell_type": "code",
      "execution_count": null,
      "metadata": {
        "colab": {
          "base_uri": "https://localhost:8080/"
        },
        "id": "kqF4Hicy6ABa",
        "outputId": "4e288438-48c6-408e-f93a-b365a34b93bc"
      },
      "outputs": [],
      "source": [
        "yhat = facetracker.predict(test_sample[0])\n",
        "yhat"
      ]
    },
    {
      "cell_type": "code",
      "execution_count": null,
      "metadata": {
        "colab": {
          "base_uri": "https://localhost:8080/",
          "height": 322
        },
        "id": "1U_Tiz335w0i",
        "outputId": "9af2a1ba-b31d-4b82-fe21-613ce5f67740"
      },
      "outputs": [],
      "source": [
        "fig, ax = plt.subplots(ncols=4, figsize=(20, 20))\n",
        "for idx in range(4):\n",
        "  sample_image = test_sample[0][idx]\n",
        "  sample_coords = yhat[1][idx]\n",
        "  # image_copy = np.copy(sample_image)\n",
        "\n",
        "  if yhat[0][idx] > 0.9:\n",
        "    cv2.rectangle(\n",
        "        sample_image,\n",
        "        tuple(np.multiply(sample_coords[:2], [120, 120]).astype(int)),\n",
        "        tuple(np.multiply(sample_coords[2:], [120, 120]).astype(int)),\n",
        "        (255, 0, 0),\n",
        "        1\n",
        "    )\n",
        "\n",
        "  ax[idx].imshow(sample_image)"
      ]
    },
    {
      "cell_type": "markdown",
      "metadata": {
        "id": "MhNXctueh0VX"
      },
      "source": [
        "#### 11.2 Save the Model"
      ]
    },
    {
      "cell_type": "code",
      "execution_count": null,
      "metadata": {
        "id": "Cf6gRoxB8Rdv"
      },
      "outputs": [],
      "source": [
        "from tensorflow.keras.models import load_model"
      ]
    },
    {
      "cell_type": "code",
      "execution_count": null,
      "metadata": {
        "colab": {
          "base_uri": "https://localhost:8080/"
        },
        "id": "4C-B1FzD8V4N",
        "outputId": "0791299e-b3ad-4854-88c9-336bed912d38"
      },
      "outputs": [],
      "source": [
        "facetracker.save('facetracker.h5')"
      ]
    },
    {
      "cell_type": "code",
      "execution_count": null,
      "metadata": {
        "colab": {
          "base_uri": "https://localhost:8080/"
        },
        "id": "eso4PU_68hzd",
        "outputId": "b16f7441-2c9c-4101-9ab5-0ca4f524151a"
      },
      "outputs": [],
      "source": [
        "facetracker = load_model('facetracker.h5')"
      ]
    },
    {
      "cell_type": "markdown",
      "metadata": {
        "id": "FTel5RULhwCG"
      },
      "source": [
        "#### 11.3 Real Time Detection"
      ]
    },
    {
      "cell_type": "code",
      "execution_count": null,
      "metadata": {
        "id": "AAHdfZy8SKnT"
      },
      "outputs": [],
      "source": [
        "import cv2\n",
        "import numpy as np\n",
        "import tensorflow as tf\n",
        "from tensorflow.keras.models import load_model"
      ]
    },
    {
      "cell_type": "code",
      "execution_count": null,
      "metadata": {
        "colab": {
          "base_uri": "https://localhost:8080/"
        },
        "id": "YmK986oRSeYk",
        "outputId": "93d6a18e-67bf-49a8-c87d-802348d2559f"
      },
      "outputs": [],
      "source": [
        "facetracker = load_model('facetracker.h5')"
      ]
    },
    {
      "cell_type": "code",
      "execution_count": null,
      "metadata": {
        "id": "_IU7UEZC-W6P"
      },
      "outputs": [],
      "source": [
        "cap = cv2.VideoCapture(0)\n",
        "while cap.isOpened():\n",
        "    _ , frame = cap.read()\n",
        "    frame = frame[50:500, 50:500,:]\n",
        "\n",
        "    rgb = cv2.cvtColor(frame, cv2.COLOR_BGR2RGB)\n",
        "    resized = tf.image.resize(rgb, (120,120))\n",
        "\n",
        "    yhat = facetracker.predict(np.expand_dims(resized/255,0))\n",
        "    sample_coords = yhat[1][0]\n",
        "\n",
        "    if yhat[0] > 0.5:\n",
        "        # Controls the main rectangle\n",
        "        cv2.rectangle(\n",
        "            img=frame,\n",
        "            pt1=tuple(np.multiply(sample_coords[:2], [450,450]).astype(int)),\n",
        "            pt2=tuple(np.multiply(sample_coords[2:], [450,450]).astype(int)),\n",
        "            color=(255,0,0),\n",
        "            thickness=2\n",
        "        )\n",
        "\n",
        "        # Controls the label rectangle\n",
        "        cv2.rectangle(\n",
        "            img=frame,\n",
        "            pt1=tuple(np.add(np.multiply(sample_coords[:2], [450,450]).astype(int), [0,-30])),\n",
        "            pt2=tuple(np.add(np.multiply(sample_coords[:2], [450,450]).astype(int),[80,0])),\n",
        "            color=(255,0,0),\n",
        "            thickness=-1\n",
        "        )\n",
        "\n",
        "        # Controls the text rendered\n",
        "        cv2.putText(\n",
        "            img=frame,\n",
        "            text='face',\n",
        "            org=tuple(np.add(np.multiply(sample_coords[:2], [450,450]).astype(int), [0,-5])),\n",
        "            fontFace=cv2.FONT_HERSHEY_SIMPLEX,\n",
        "            fontScale=1,\n",
        "            color=(255,255,255),\n",
        "            thickness=2,\n",
        "            lineType=cv2.LINE_AA\n",
        "        )\n",
        "\n",
        "    cv2.imshow('EyeTrack', frame)\n",
        "\n",
        "    if cv2.waitKey(1) & 0xFF == ord('q'):\n",
        "        break\n",
        "\n",
        "cap.release()\n",
        "cv2.destroyAllWindows()"
      ]
    }
  ],
  "metadata": {
    "accelerator": "GPU",
    "colab": {
      "gpuType": "T4",
      "provenance": []
    },
    "kernelspec": {
      "display_name": "Python 3",
      "name": "python3"
    },
    "language_info": {
      "codemirror_mode": {
        "name": "ipython",
        "version": 3
      },
      "file_extension": ".py",
      "mimetype": "text/x-python",
      "name": "python",
      "nbconvert_exporter": "python",
      "pygments_lexer": "ipython3",
      "version": "3.10.0"
    }
  },
  "nbformat": 4,
  "nbformat_minor": 0
}
